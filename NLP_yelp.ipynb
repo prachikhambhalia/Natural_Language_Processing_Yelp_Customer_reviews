{
 "cells": [
  {
   "cell_type": "code",
   "execution_count": 7,
   "metadata": {
    "collapsed": true
   },
   "outputs": [],
   "source": [
    "import pandas as pd\n",
    "import numpy as np\n",
    "import matplotlib as mpl\n",
    "import matplotlib.pyplot as plt\n",
    "import re\n",
    "import string\n",
    "import nltk"
   ]
  },
  {
   "cell_type": "code",
   "execution_count": 8,
   "metadata": {
    "collapsed": true
   },
   "outputs": [],
   "source": [
    "yelp = pd.read_csv('data.csv',encoding = 'latin1')"
   ]
  },
  {
   "cell_type": "code",
   "execution_count": 9,
   "metadata": {},
   "outputs": [
    {
     "data": {
      "text/html": [
       "<div>\n",
       "<style>\n",
       "    .dataframe thead tr:only-child th {\n",
       "        text-align: right;\n",
       "    }\n",
       "\n",
       "    .dataframe thead th {\n",
       "        text-align: left;\n",
       "    }\n",
       "\n",
       "    .dataframe tbody tr th {\n",
       "        vertical-align: top;\n",
       "    }\n",
       "</style>\n",
       "<table border=\"1\" class=\"dataframe\">\n",
       "  <thead>\n",
       "    <tr style=\"text-align: right;\">\n",
       "      <th></th>\n",
       "      <th>Unnamed: 0</th>\n",
       "      <th>business_id</th>\n",
       "      <th>stars</th>\n",
       "      <th>text</th>\n",
       "      <th>name</th>\n",
       "      <th>state</th>\n",
       "      <th>categories</th>\n",
       "    </tr>\n",
       "  </thead>\n",
       "  <tbody>\n",
       "    <tr>\n",
       "      <th>0</th>\n",
       "      <td>99486</td>\n",
       "      <td>YDeN4OHayfKocEo7Tz4jMg</td>\n",
       "      <td>2</td>\n",
       "      <td>Solid food but the service is lacking.\\r\\n\\r\\n...</td>\n",
       "      <td>\"La Tagliatella EpiCentre\"</td>\n",
       "      <td>NC</td>\n",
       "      <td>Pizza;Restaurants;Italian</td>\n",
       "    </tr>\n",
       "    <tr>\n",
       "      <th>1</th>\n",
       "      <td>99487</td>\n",
       "      <td>YDeN4OHayfKocEo7Tz4jMg</td>\n",
       "      <td>4</td>\n",
       "      <td>My friend and I ate here before seeing a movie...</td>\n",
       "      <td>\"La Tagliatella EpiCentre\"</td>\n",
       "      <td>NC</td>\n",
       "      <td>Pizza;Restaurants;Italian</td>\n",
       "    </tr>\n",
       "    <tr>\n",
       "      <th>2</th>\n",
       "      <td>99488</td>\n",
       "      <td>YDeN4OHayfKocEo7Tz4jMg</td>\n",
       "      <td>4</td>\n",
       "      <td>Okay I didn't expect much from this place. I j...</td>\n",
       "      <td>\"La Tagliatella EpiCentre\"</td>\n",
       "      <td>NC</td>\n",
       "      <td>Pizza;Restaurants;Italian</td>\n",
       "    </tr>\n",
       "    <tr>\n",
       "      <th>3</th>\n",
       "      <td>99489</td>\n",
       "      <td>YDeN4OHayfKocEo7Tz4jMg</td>\n",
       "      <td>4</td>\n",
       "      <td>La Tagliatella just opened up in the Epicentre...</td>\n",
       "      <td>\"La Tagliatella EpiCentre\"</td>\n",
       "      <td>NC</td>\n",
       "      <td>Pizza;Restaurants;Italian</td>\n",
       "    </tr>\n",
       "    <tr>\n",
       "      <th>4</th>\n",
       "      <td>99490</td>\n",
       "      <td>YDeN4OHayfKocEo7Tz4jMg</td>\n",
       "      <td>3</td>\n",
       "      <td>I'm torn on whether this is a 2 or 3 star plac...</td>\n",
       "      <td>\"La Tagliatella EpiCentre\"</td>\n",
       "      <td>NC</td>\n",
       "      <td>Pizza;Restaurants;Italian</td>\n",
       "    </tr>\n",
       "  </tbody>\n",
       "</table>\n",
       "</div>"
      ],
      "text/plain": [
       "   Unnamed: 0             business_id  stars  \\\n",
       "0       99486  YDeN4OHayfKocEo7Tz4jMg      2   \n",
       "1       99487  YDeN4OHayfKocEo7Tz4jMg      4   \n",
       "2       99488  YDeN4OHayfKocEo7Tz4jMg      4   \n",
       "3       99489  YDeN4OHayfKocEo7Tz4jMg      4   \n",
       "4       99490  YDeN4OHayfKocEo7Tz4jMg      3   \n",
       "\n",
       "                                                text  \\\n",
       "0  Solid food but the service is lacking.\\r\\n\\r\\n...   \n",
       "1  My friend and I ate here before seeing a movie...   \n",
       "2  Okay I didn't expect much from this place. I j...   \n",
       "3  La Tagliatella just opened up in the Epicentre...   \n",
       "4  I'm torn on whether this is a 2 or 3 star plac...   \n",
       "\n",
       "                         name state                 categories  \n",
       "0  \"La Tagliatella EpiCentre\"    NC  Pizza;Restaurants;Italian  \n",
       "1  \"La Tagliatella EpiCentre\"    NC  Pizza;Restaurants;Italian  \n",
       "2  \"La Tagliatella EpiCentre\"    NC  Pizza;Restaurants;Italian  \n",
       "3  \"La Tagliatella EpiCentre\"    NC  Pizza;Restaurants;Italian  \n",
       "4  \"La Tagliatella EpiCentre\"    NC  Pizza;Restaurants;Italian  "
      ]
     },
     "execution_count": 9,
     "metadata": {},
     "output_type": "execute_result"
    }
   ],
   "source": [
    "yelp.head()"
   ]
  },
  {
   "cell_type": "code",
   "execution_count": 18,
   "metadata": {
    "collapsed": true
   },
   "outputs": [],
   "source": [
    "def clean_str(string):\n",
    "    \n",
    "    string = re.sub(r\"[^A-Za-z0-9()!\\'\\`%$]\", \" \", string) # replace single characters not present in the lists by a space.\n",
    "    string = re.sub(r\"\\'s\", \" \\'s\", string) # separate it with the word before（add space）\n",
    "    string = re.sub(r\"\\'ve\", \" have\", string) \n",
    "    string = re.sub(r\"\\'re\", \" are\", string)\n",
    "    string = re.sub(r\"\\'d\", \" would\", string)\n",
    "    string = re.sub(r\"\\'ll\", \" will\", string)\n",
    "    string = re.sub(r\"!\", \" ! \", string)\n",
    "    string = re.sub(r\"\\(\", \" ( \", string)\n",
    "    string = re.sub(r\"\\)\", \" ) \", string)\n",
    "    string = re.sub(r\"\\%\", \" % \", string) \n",
    "    string = re.sub(r\"\\s{2,}\", \" \", string)\n",
    "    string = re.sub(r\"\\'t\",\" not\",string)\n",
    "    string = re.sub(r\"\\'m\", \" am\", string)\n",
    "    \n",
    "    \n",
    "    # removing non ascii\n",
    "    string = re.sub(r'[^\\x00-\\x7F]+', \"\", string) \n",
    "    \n",
    "    return string.strip().lower()"
   ]
  },
  {
   "cell_type": "code",
   "execution_count": 15,
   "metadata": {},
   "outputs": [
    {
     "data": {
      "text/html": [
       "<div>\n",
       "<style>\n",
       "    .dataframe thead tr:only-child th {\n",
       "        text-align: right;\n",
       "    }\n",
       "\n",
       "    .dataframe thead th {\n",
       "        text-align: left;\n",
       "    }\n",
       "\n",
       "    .dataframe tbody tr th {\n",
       "        vertical-align: top;\n",
       "    }\n",
       "</style>\n",
       "<table border=\"1\" class=\"dataframe\">\n",
       "  <thead>\n",
       "    <tr style=\"text-align: right;\">\n",
       "      <th></th>\n",
       "      <th>Unnamed: 0</th>\n",
       "      <th>business_id</th>\n",
       "      <th>stars</th>\n",
       "      <th>text</th>\n",
       "      <th>name</th>\n",
       "      <th>state</th>\n",
       "      <th>categories</th>\n",
       "      <th>textclean</th>\n",
       "    </tr>\n",
       "  </thead>\n",
       "  <tbody>\n",
       "    <tr>\n",
       "      <th>0</th>\n",
       "      <td>99486</td>\n",
       "      <td>YDeN4OHayfKocEo7Tz4jMg</td>\n",
       "      <td>2</td>\n",
       "      <td>Solid food but the service is lacking.\\r\\n\\r\\n...</td>\n",
       "      <td>\"La Tagliatella EpiCentre\"</td>\n",
       "      <td>NC</td>\n",
       "      <td>Pizza;Restaurants;Italian</td>\n",
       "      <td>solid food but the service is lacking we were ...</td>\n",
       "    </tr>\n",
       "    <tr>\n",
       "      <th>1</th>\n",
       "      <td>99487</td>\n",
       "      <td>YDeN4OHayfKocEo7Tz4jMg</td>\n",
       "      <td>4</td>\n",
       "      <td>My friend and I ate here before seeing a movie...</td>\n",
       "      <td>\"La Tagliatella EpiCentre\"</td>\n",
       "      <td>NC</td>\n",
       "      <td>Pizza;Restaurants;Italian</td>\n",
       "      <td>my friend and i ate here before seeing a movie...</td>\n",
       "    </tr>\n",
       "    <tr>\n",
       "      <th>2</th>\n",
       "      <td>99488</td>\n",
       "      <td>YDeN4OHayfKocEo7Tz4jMg</td>\n",
       "      <td>4</td>\n",
       "      <td>Okay I didn't expect much from this place. I j...</td>\n",
       "      <td>\"La Tagliatella EpiCentre\"</td>\n",
       "      <td>NC</td>\n",
       "      <td>Pizza;Restaurants;Italian</td>\n",
       "      <td>okay i didn't expect much from this place i ju...</td>\n",
       "    </tr>\n",
       "    <tr>\n",
       "      <th>3</th>\n",
       "      <td>99489</td>\n",
       "      <td>YDeN4OHayfKocEo7Tz4jMg</td>\n",
       "      <td>4</td>\n",
       "      <td>La Tagliatella just opened up in the Epicentre...</td>\n",
       "      <td>\"La Tagliatella EpiCentre\"</td>\n",
       "      <td>NC</td>\n",
       "      <td>Pizza;Restaurants;Italian</td>\n",
       "      <td>la tagliatella just opened up in the epicentre...</td>\n",
       "    </tr>\n",
       "    <tr>\n",
       "      <th>4</th>\n",
       "      <td>99490</td>\n",
       "      <td>YDeN4OHayfKocEo7Tz4jMg</td>\n",
       "      <td>3</td>\n",
       "      <td>I'm torn on whether this is a 2 or 3 star plac...</td>\n",
       "      <td>\"La Tagliatella EpiCentre\"</td>\n",
       "      <td>NC</td>\n",
       "      <td>Pizza;Restaurants;Italian</td>\n",
       "      <td>i'm torn on whether this is a 2 or 3 star plac...</td>\n",
       "    </tr>\n",
       "  </tbody>\n",
       "</table>\n",
       "</div>"
      ],
      "text/plain": [
       "   Unnamed: 0             business_id  stars  \\\n",
       "0       99486  YDeN4OHayfKocEo7Tz4jMg      2   \n",
       "1       99487  YDeN4OHayfKocEo7Tz4jMg      4   \n",
       "2       99488  YDeN4OHayfKocEo7Tz4jMg      4   \n",
       "3       99489  YDeN4OHayfKocEo7Tz4jMg      4   \n",
       "4       99490  YDeN4OHayfKocEo7Tz4jMg      3   \n",
       "\n",
       "                                                text  \\\n",
       "0  Solid food but the service is lacking.\\r\\n\\r\\n...   \n",
       "1  My friend and I ate here before seeing a movie...   \n",
       "2  Okay I didn't expect much from this place. I j...   \n",
       "3  La Tagliatella just opened up in the Epicentre...   \n",
       "4  I'm torn on whether this is a 2 or 3 star plac...   \n",
       "\n",
       "                         name state                 categories  \\\n",
       "0  \"La Tagliatella EpiCentre\"    NC  Pizza;Restaurants;Italian   \n",
       "1  \"La Tagliatella EpiCentre\"    NC  Pizza;Restaurants;Italian   \n",
       "2  \"La Tagliatella EpiCentre\"    NC  Pizza;Restaurants;Italian   \n",
       "3  \"La Tagliatella EpiCentre\"    NC  Pizza;Restaurants;Italian   \n",
       "4  \"La Tagliatella EpiCentre\"    NC  Pizza;Restaurants;Italian   \n",
       "\n",
       "                                           textclean  \n",
       "0  solid food but the service is lacking we were ...  \n",
       "1  my friend and i ate here before seeing a movie...  \n",
       "2  okay i didn't expect much from this place i ju...  \n",
       "3  la tagliatella just opened up in the epicentre...  \n",
       "4  i'm torn on whether this is a 2 or 3 star plac...  "
      ]
     },
     "execution_count": 15,
     "metadata": {},
     "output_type": "execute_result"
    }
   ],
   "source": [
    "yelp.head()"
   ]
  },
  {
   "cell_type": "code",
   "execution_count": 19,
   "metadata": {
    "collapsed": true
   },
   "outputs": [],
   "source": [
    "text_data=[]\n",
    "for information in yelp['text']:\n",
    "    text_data.append(clean_str(information))"
   ]
  },
  {
   "cell_type": "code",
   "execution_count": 20,
   "metadata": {},
   "outputs": [
    {
     "data": {
      "text/html": [
       "<div>\n",
       "<style>\n",
       "    .dataframe thead tr:only-child th {\n",
       "        text-align: right;\n",
       "    }\n",
       "\n",
       "    .dataframe thead th {\n",
       "        text-align: left;\n",
       "    }\n",
       "\n",
       "    .dataframe tbody tr th {\n",
       "        vertical-align: top;\n",
       "    }\n",
       "</style>\n",
       "<table border=\"1\" class=\"dataframe\">\n",
       "  <thead>\n",
       "    <tr style=\"text-align: right;\">\n",
       "      <th></th>\n",
       "      <th>Unnamed: 0</th>\n",
       "      <th>business_id</th>\n",
       "      <th>stars</th>\n",
       "      <th>text</th>\n",
       "      <th>name</th>\n",
       "      <th>state</th>\n",
       "      <th>categories</th>\n",
       "      <th>textclean</th>\n",
       "    </tr>\n",
       "  </thead>\n",
       "  <tbody>\n",
       "    <tr>\n",
       "      <th>0</th>\n",
       "      <td>99486</td>\n",
       "      <td>YDeN4OHayfKocEo7Tz4jMg</td>\n",
       "      <td>2</td>\n",
       "      <td>Solid food but the service is lacking.\\r\\n\\r\\n...</td>\n",
       "      <td>\"La Tagliatella EpiCentre\"</td>\n",
       "      <td>NC</td>\n",
       "      <td>Pizza;Restaurants;Italian</td>\n",
       "      <td>solid food but the service is lacking we were ...</td>\n",
       "    </tr>\n",
       "    <tr>\n",
       "      <th>1</th>\n",
       "      <td>99487</td>\n",
       "      <td>YDeN4OHayfKocEo7Tz4jMg</td>\n",
       "      <td>4</td>\n",
       "      <td>My friend and I ate here before seeing a movie...</td>\n",
       "      <td>\"La Tagliatella EpiCentre\"</td>\n",
       "      <td>NC</td>\n",
       "      <td>Pizza;Restaurants;Italian</td>\n",
       "      <td>my friend and i ate here before seeing a movie...</td>\n",
       "    </tr>\n",
       "    <tr>\n",
       "      <th>2</th>\n",
       "      <td>99488</td>\n",
       "      <td>YDeN4OHayfKocEo7Tz4jMg</td>\n",
       "      <td>4</td>\n",
       "      <td>Okay I didn't expect much from this place. I j...</td>\n",
       "      <td>\"La Tagliatella EpiCentre\"</td>\n",
       "      <td>NC</td>\n",
       "      <td>Pizza;Restaurants;Italian</td>\n",
       "      <td>okay i didn not expect much from this place i ...</td>\n",
       "    </tr>\n",
       "    <tr>\n",
       "      <th>3</th>\n",
       "      <td>99489</td>\n",
       "      <td>YDeN4OHayfKocEo7Tz4jMg</td>\n",
       "      <td>4</td>\n",
       "      <td>La Tagliatella just opened up in the Epicentre...</td>\n",
       "      <td>\"La Tagliatella EpiCentre\"</td>\n",
       "      <td>NC</td>\n",
       "      <td>Pizza;Restaurants;Italian</td>\n",
       "      <td>la tagliatella just opened up in the epicentre...</td>\n",
       "    </tr>\n",
       "    <tr>\n",
       "      <th>4</th>\n",
       "      <td>99490</td>\n",
       "      <td>YDeN4OHayfKocEo7Tz4jMg</td>\n",
       "      <td>3</td>\n",
       "      <td>I'm torn on whether this is a 2 or 3 star plac...</td>\n",
       "      <td>\"La Tagliatella EpiCentre\"</td>\n",
       "      <td>NC</td>\n",
       "      <td>Pizza;Restaurants;Italian</td>\n",
       "      <td>i am torn on whether this is a 2 or 3 star pla...</td>\n",
       "    </tr>\n",
       "  </tbody>\n",
       "</table>\n",
       "</div>"
      ],
      "text/plain": [
       "   Unnamed: 0             business_id  stars  \\\n",
       "0       99486  YDeN4OHayfKocEo7Tz4jMg      2   \n",
       "1       99487  YDeN4OHayfKocEo7Tz4jMg      4   \n",
       "2       99488  YDeN4OHayfKocEo7Tz4jMg      4   \n",
       "3       99489  YDeN4OHayfKocEo7Tz4jMg      4   \n",
       "4       99490  YDeN4OHayfKocEo7Tz4jMg      3   \n",
       "\n",
       "                                                text  \\\n",
       "0  Solid food but the service is lacking.\\r\\n\\r\\n...   \n",
       "1  My friend and I ate here before seeing a movie...   \n",
       "2  Okay I didn't expect much from this place. I j...   \n",
       "3  La Tagliatella just opened up in the Epicentre...   \n",
       "4  I'm torn on whether this is a 2 or 3 star plac...   \n",
       "\n",
       "                         name state                 categories  \\\n",
       "0  \"La Tagliatella EpiCentre\"    NC  Pizza;Restaurants;Italian   \n",
       "1  \"La Tagliatella EpiCentre\"    NC  Pizza;Restaurants;Italian   \n",
       "2  \"La Tagliatella EpiCentre\"    NC  Pizza;Restaurants;Italian   \n",
       "3  \"La Tagliatella EpiCentre\"    NC  Pizza;Restaurants;Italian   \n",
       "4  \"La Tagliatella EpiCentre\"    NC  Pizza;Restaurants;Italian   \n",
       "\n",
       "                                           textclean  \n",
       "0  solid food but the service is lacking we were ...  \n",
       "1  my friend and i ate here before seeing a movie...  \n",
       "2  okay i didn not expect much from this place i ...  \n",
       "3  la tagliatella just opened up in the epicentre...  \n",
       "4  i am torn on whether this is a 2 or 3 star pla...  "
      ]
     },
     "execution_count": 20,
     "metadata": {},
     "output_type": "execute_result"
    }
   ],
   "source": [
    "yelp[\"textclean\"]=text_data\n",
    "yelp.head()"
   ]
  },
  {
   "cell_type": "code",
   "execution_count": null,
   "metadata": {
    "collapsed": true
   },
   "outputs": [],
   "source": []
  },
  {
   "cell_type": "code",
   "execution_count": 23,
   "metadata": {},
   "outputs": [
    {
     "data": {
      "text/plain": [
       "50000"
      ]
     },
     "execution_count": 23,
     "metadata": {},
     "output_type": "execute_result"
    }
   ],
   "source": [
    "df=yelp.sample(50000)\n",
    "df=df[[\"stars\",\"textclean\"]]\n",
    "df.head()\n",
    "len(df)\n"
   ]
  },
  {
   "cell_type": "code",
   "execution_count": 24,
   "metadata": {},
   "outputs": [
    {
     "data": {
      "text/html": [
       "<div>\n",
       "<style>\n",
       "    .dataframe thead tr:only-child th {\n",
       "        text-align: right;\n",
       "    }\n",
       "\n",
       "    .dataframe thead th {\n",
       "        text-align: left;\n",
       "    }\n",
       "\n",
       "    .dataframe tbody tr th {\n",
       "        vertical-align: top;\n",
       "    }\n",
       "</style>\n",
       "<table border=\"1\" class=\"dataframe\">\n",
       "  <thead>\n",
       "    <tr style=\"text-align: right;\">\n",
       "      <th></th>\n",
       "      <th>stars</th>\n",
       "      <th>textclean</th>\n",
       "    </tr>\n",
       "  </thead>\n",
       "  <tbody>\n",
       "    <tr>\n",
       "      <th>7954</th>\n",
       "      <td>5</td>\n",
       "      <td>we had breakfast and lunch thanks to an oversi...</td>\n",
       "    </tr>\n",
       "    <tr>\n",
       "      <th>111141</th>\n",
       "      <td>5</td>\n",
       "      <td>do you want a sweet date spot do you like your...</td>\n",
       "    </tr>\n",
       "    <tr>\n",
       "      <th>17129</th>\n",
       "      <td>4</td>\n",
       "      <td>coming from atlanta ( aka korean food capital ...</td>\n",
       "    </tr>\n",
       "    <tr>\n",
       "      <th>198285</th>\n",
       "      <td>4</td>\n",
       "      <td>very friendly and personable folks they have a...</td>\n",
       "    </tr>\n",
       "    <tr>\n",
       "      <th>11764</th>\n",
       "      <td>3</td>\n",
       "      <td>after seeing pictures of the red velvet waffle...</td>\n",
       "    </tr>\n",
       "  </tbody>\n",
       "</table>\n",
       "</div>"
      ],
      "text/plain": [
       "        stars                                          textclean\n",
       "7954        5  we had breakfast and lunch thanks to an oversi...\n",
       "111141      5  do you want a sweet date spot do you like your...\n",
       "17129       4  coming from atlanta ( aka korean food capital ...\n",
       "198285      4  very friendly and personable folks they have a...\n",
       "11764       3  after seeing pictures of the red velvet waffle..."
      ]
     },
     "execution_count": 24,
     "metadata": {},
     "output_type": "execute_result"
    }
   ],
   "source": [
    "df.head()"
   ]
  },
  {
   "cell_type": "code",
   "execution_count": 25,
   "metadata": {
    "collapsed": true
   },
   "outputs": [],
   "source": [
    "import nltk\n",
    "from nltk.stem import PorterStemmer\n",
    "stemmer=PorterStemmer()\n",
    "df.textclean=df.textclean.apply(lambda textclean: \" \".join([stemmer.stem(word) for word in textclean.split(\" \")]))"
   ]
  },
  {
   "cell_type": "code",
   "execution_count": 26,
   "metadata": {},
   "outputs": [
    {
     "data": {
      "text/html": [
       "<div>\n",
       "<style>\n",
       "    .dataframe thead tr:only-child th {\n",
       "        text-align: right;\n",
       "    }\n",
       "\n",
       "    .dataframe thead th {\n",
       "        text-align: left;\n",
       "    }\n",
       "\n",
       "    .dataframe tbody tr th {\n",
       "        vertical-align: top;\n",
       "    }\n",
       "</style>\n",
       "<table border=\"1\" class=\"dataframe\">\n",
       "  <thead>\n",
       "    <tr style=\"text-align: right;\">\n",
       "      <th></th>\n",
       "      <th>stars</th>\n",
       "      <th>textclean</th>\n",
       "    </tr>\n",
       "  </thead>\n",
       "  <tbody>\n",
       "    <tr>\n",
       "      <th>7954</th>\n",
       "      <td>5</td>\n",
       "      <td>we had breakfast and lunch thank to an overs b...</td>\n",
       "    </tr>\n",
       "    <tr>\n",
       "      <th>111141</th>\n",
       "      <td>5</td>\n",
       "      <td>do you want a sweet date spot do you like your...</td>\n",
       "    </tr>\n",
       "    <tr>\n",
       "      <th>17129</th>\n",
       "      <td>4</td>\n",
       "      <td>come from atlanta ( aka korean food capit of t...</td>\n",
       "    </tr>\n",
       "    <tr>\n",
       "      <th>198285</th>\n",
       "      <td>4</td>\n",
       "      <td>veri friendli and person folk they have a nice...</td>\n",
       "    </tr>\n",
       "    <tr>\n",
       "      <th>11764</th>\n",
       "      <td>3</td>\n",
       "      <td>after see pictur of the red velvet waffl i wan...</td>\n",
       "    </tr>\n",
       "  </tbody>\n",
       "</table>\n",
       "</div>"
      ],
      "text/plain": [
       "        stars                                          textclean\n",
       "7954        5  we had breakfast and lunch thank to an overs b...\n",
       "111141      5  do you want a sweet date spot do you like your...\n",
       "17129       4  come from atlanta ( aka korean food capit of t...\n",
       "198285      4  veri friendli and person folk they have a nice...\n",
       "11764       3  after see pictur of the red velvet waffl i wan..."
      ]
     },
     "execution_count": 26,
     "metadata": {},
     "output_type": "execute_result"
    }
   ],
   "source": [
    "df.head()"
   ]
  },
  {
   "cell_type": "code",
   "execution_count": 27,
   "metadata": {},
   "outputs": [
    {
     "data": {
      "text/html": [
       "<div>\n",
       "<style>\n",
       "    .dataframe thead tr:only-child th {\n",
       "        text-align: right;\n",
       "    }\n",
       "\n",
       "    .dataframe thead th {\n",
       "        text-align: left;\n",
       "    }\n",
       "\n",
       "    .dataframe tbody tr th {\n",
       "        vertical-align: top;\n",
       "    }\n",
       "</style>\n",
       "<table border=\"1\" class=\"dataframe\">\n",
       "  <thead>\n",
       "    <tr style=\"text-align: right;\">\n",
       "      <th></th>\n",
       "      <th>stars</th>\n",
       "      <th>textclean</th>\n",
       "    </tr>\n",
       "  </thead>\n",
       "  <tbody>\n",
       "    <tr>\n",
       "      <th>7954</th>\n",
       "      <td>pos</td>\n",
       "      <td>we had breakfast and lunch thank to an overs b...</td>\n",
       "    </tr>\n",
       "    <tr>\n",
       "      <th>111141</th>\n",
       "      <td>pos</td>\n",
       "      <td>do you want a sweet date spot do you like your...</td>\n",
       "    </tr>\n",
       "    <tr>\n",
       "      <th>17129</th>\n",
       "      <td>pos</td>\n",
       "      <td>come from atlanta ( aka korean food capit of t...</td>\n",
       "    </tr>\n",
       "    <tr>\n",
       "      <th>198285</th>\n",
       "      <td>pos</td>\n",
       "      <td>veri friendli and person folk they have a nice...</td>\n",
       "    </tr>\n",
       "    <tr>\n",
       "      <th>11764</th>\n",
       "      <td>neg</td>\n",
       "      <td>after see pictur of the red velvet waffl i wan...</td>\n",
       "    </tr>\n",
       "  </tbody>\n",
       "</table>\n",
       "</div>"
      ],
      "text/plain": [
       "       stars                                          textclean\n",
       "7954     pos  we had breakfast and lunch thank to an overs b...\n",
       "111141   pos  do you want a sweet date spot do you like your...\n",
       "17129    pos  come from atlanta ( aka korean food capit of t...\n",
       "198285   pos  veri friendli and person folk they have a nice...\n",
       "11764    neg  after see pictur of the red velvet waffl i wan..."
      ]
     },
     "execution_count": 27,
     "metadata": {},
     "output_type": "execute_result"
    }
   ],
   "source": [
    "df['stars'] = df['stars'].apply(lambda x : 'pos' if x > 3 else 'neg')\n",
    "df.head()\n"
   ]
  },
  {
   "cell_type": "code",
   "execution_count": 28,
   "metadata": {},
   "outputs": [
    {
     "data": {
      "text/plain": [
       "stars\n",
       "neg    17868\n",
       "pos    32132\n",
       "Name: textclean, dtype: int64"
      ]
     },
     "execution_count": 28,
     "metadata": {},
     "output_type": "execute_result"
    }
   ],
   "source": [
    "df.groupby('stars')['textclean'].count()"
   ]
  },
  {
   "cell_type": "code",
   "execution_count": 56,
   "metadata": {
    "scrolled": true
   },
   "outputs": [
    {
     "name": "stdout",
     "output_type": "stream",
     "text": [
      "Percentage of negative reviews 35.74 %\n",
      "Percentage of positive reviews 64.26 %\n"
     ]
    }
   ],
   "source": [
    "reviews=df\n",
    "print ('Percentage of negative reviews %.2f %%' % ((reviews.groupby('stars')['textclean'].count()['neg'])*100.0/len(reviews)))\n",
    "print ('Percentage of positive reviews %.2f %%' % ((reviews.groupby('stars')['textclean'].count()['pos'])*100.0/len(reviews)))"
   ]
  },
  {
   "cell_type": "code",
   "execution_count": 57,
   "metadata": {},
   "outputs": [
    {
     "data": {
      "text/html": [
       "<div>\n",
       "<style>\n",
       "    .dataframe thead tr:only-child th {\n",
       "        text-align: right;\n",
       "    }\n",
       "\n",
       "    .dataframe thead th {\n",
       "        text-align: left;\n",
       "    }\n",
       "\n",
       "    .dataframe tbody tr th {\n",
       "        vertical-align: top;\n",
       "    }\n",
       "</style>\n",
       "<table border=\"1\" class=\"dataframe\">\n",
       "  <thead>\n",
       "    <tr style=\"text-align: right;\">\n",
       "      <th></th>\n",
       "      <th>stars</th>\n",
       "      <th>textclean</th>\n",
       "      <th>text_clean_noisefree</th>\n",
       "    </tr>\n",
       "  </thead>\n",
       "  <tbody>\n",
       "    <tr>\n",
       "      <th>7954</th>\n",
       "      <td>pos</td>\n",
       "      <td>we had breakfast and lunch thank to an overs b...</td>\n",
       "      <td>we breakfast and lunch thank to an overs break...</td>\n",
       "    </tr>\n",
       "    <tr>\n",
       "      <th>111141</th>\n",
       "      <td>pos</td>\n",
       "      <td>do you want a sweet date spot do you like your...</td>\n",
       "      <td>you want sweet date spot you like your flavor ...</td>\n",
       "    </tr>\n",
       "    <tr>\n",
       "      <th>17129</th>\n",
       "      <td>pos</td>\n",
       "      <td>come from atlanta ( aka korean food capit of t...</td>\n",
       "      <td>come from atlanta ( aka korean food capit of s...</td>\n",
       "    </tr>\n",
       "    <tr>\n",
       "      <th>198285</th>\n",
       "      <td>pos</td>\n",
       "      <td>veri friendli and person folk they have a nice...</td>\n",
       "      <td>veri friendli and person folk they nice select...</td>\n",
       "    </tr>\n",
       "    <tr>\n",
       "      <th>11764</th>\n",
       "      <td>neg</td>\n",
       "      <td>after see pictur of the red velvet waffl i wan...</td>\n",
       "      <td>after see pictur of red velvet waffl i want to...</td>\n",
       "    </tr>\n",
       "  </tbody>\n",
       "</table>\n",
       "</div>"
      ],
      "text/plain": [
       "       stars                                          textclean  \\\n",
       "7954     pos  we had breakfast and lunch thank to an overs b...   \n",
       "111141   pos  do you want a sweet date spot do you like your...   \n",
       "17129    pos  come from atlanta ( aka korean food capit of t...   \n",
       "198285   pos  veri friendli and person folk they have a nice...   \n",
       "11764    neg  after see pictur of the red velvet waffl i wan...   \n",
       "\n",
       "                                     text_clean_noisefree  \n",
       "7954    we breakfast and lunch thank to an overs break...  \n",
       "111141  you want sweet date spot you like your flavor ...  \n",
       "17129   come from atlanta ( aka korean food capit of s...  \n",
       "198285  veri friendli and person folk they nice select...  \n",
       "11764   after see pictur of red velvet waffl i want to...  "
      ]
     },
     "execution_count": 57,
     "metadata": {},
     "output_type": "execute_result"
    }
   ],
   "source": [
    "reviews.head()"
   ]
  },
  {
   "cell_type": "code",
   "execution_count": 38,
   "metadata": {
    "collapsed": true
   },
   "outputs": [],
   "source": [
    "#Removing irregularitites\n",
    "noise_list = [\"is\",\"a\",\"this\",\"...\",\"the\",\"are\",\"has\",\"have\",\"had\",\"did\",\"do\"]\n",
    "def remove_stopwords(textclean):\n",
    "    \n",
    "    words = textclean.split()\n",
    "    noise_free_words = [word for word in words if word not in noise_list] \n",
    "    noise_free_text = \" \".join(noise_free_words)\n",
    "    return noise_free_text\n"
   ]
  },
  {
   "cell_type": "code",
   "execution_count": 39,
   "metadata": {},
   "outputs": [
    {
     "data": {
      "text/html": [
       "<div>\n",
       "<style>\n",
       "    .dataframe thead tr:only-child th {\n",
       "        text-align: right;\n",
       "    }\n",
       "\n",
       "    .dataframe thead th {\n",
       "        text-align: left;\n",
       "    }\n",
       "\n",
       "    .dataframe tbody tr th {\n",
       "        vertical-align: top;\n",
       "    }\n",
       "</style>\n",
       "<table border=\"1\" class=\"dataframe\">\n",
       "  <thead>\n",
       "    <tr style=\"text-align: right;\">\n",
       "      <th></th>\n",
       "      <th>stars</th>\n",
       "      <th>textclean</th>\n",
       "    </tr>\n",
       "  </thead>\n",
       "  <tbody>\n",
       "    <tr>\n",
       "      <th>7954</th>\n",
       "      <td>pos</td>\n",
       "      <td>we had breakfast and lunch thank to an overs b...</td>\n",
       "    </tr>\n",
       "    <tr>\n",
       "      <th>111141</th>\n",
       "      <td>pos</td>\n",
       "      <td>do you want a sweet date spot do you like your...</td>\n",
       "    </tr>\n",
       "    <tr>\n",
       "      <th>17129</th>\n",
       "      <td>pos</td>\n",
       "      <td>come from atlanta ( aka korean food capit of t...</td>\n",
       "    </tr>\n",
       "    <tr>\n",
       "      <th>198285</th>\n",
       "      <td>pos</td>\n",
       "      <td>veri friendli and person folk they have a nice...</td>\n",
       "    </tr>\n",
       "    <tr>\n",
       "      <th>11764</th>\n",
       "      <td>neg</td>\n",
       "      <td>after see pictur of the red velvet waffl i wan...</td>\n",
       "    </tr>\n",
       "  </tbody>\n",
       "</table>\n",
       "</div>"
      ],
      "text/plain": [
       "       stars                                          textclean\n",
       "7954     pos  we had breakfast and lunch thank to an overs b...\n",
       "111141   pos  do you want a sweet date spot do you like your...\n",
       "17129    pos  come from atlanta ( aka korean food capit of t...\n",
       "198285   pos  veri friendli and person folk they have a nice...\n",
       "11764    neg  after see pictur of the red velvet waffl i wan..."
      ]
     },
     "execution_count": 39,
     "metadata": {},
     "output_type": "execute_result"
    }
   ],
   "source": [
    "reviews.head()"
   ]
  },
  {
   "cell_type": "code",
   "execution_count": 43,
   "metadata": {
    "collapsed": true
   },
   "outputs": [],
   "source": [
    "stop_words_remove_data=[]\n",
    "for information in reviews['textclean']:\n",
    "    stop_words_remove_data.append((information))"
   ]
  },
  {
   "cell_type": "code",
   "execution_count": 44,
   "metadata": {
    "collapsed": true
   },
   "outputs": [],
   "source": [
    "reviews['text_clean_noisefree']=stop_words_remove_data"
   ]
  },
  {
   "cell_type": "code",
   "execution_count": 45,
   "metadata": {},
   "outputs": [
    {
     "data": {
      "text/html": [
       "<div>\n",
       "<style>\n",
       "    .dataframe thead tr:only-child th {\n",
       "        text-align: right;\n",
       "    }\n",
       "\n",
       "    .dataframe thead th {\n",
       "        text-align: left;\n",
       "    }\n",
       "\n",
       "    .dataframe tbody tr th {\n",
       "        vertical-align: top;\n",
       "    }\n",
       "</style>\n",
       "<table border=\"1\" class=\"dataframe\">\n",
       "  <thead>\n",
       "    <tr style=\"text-align: right;\">\n",
       "      <th></th>\n",
       "      <th>stars</th>\n",
       "      <th>textclean</th>\n",
       "      <th>text_clean_noisefree</th>\n",
       "    </tr>\n",
       "  </thead>\n",
       "  <tbody>\n",
       "    <tr>\n",
       "      <th>7954</th>\n",
       "      <td>pos</td>\n",
       "      <td>we had breakfast and lunch thank to an overs b...</td>\n",
       "      <td>we breakfast and lunch thank to an overs break...</td>\n",
       "    </tr>\n",
       "    <tr>\n",
       "      <th>111141</th>\n",
       "      <td>pos</td>\n",
       "      <td>do you want a sweet date spot do you like your...</td>\n",
       "      <td>you want sweet date spot you like your flavor ...</td>\n",
       "    </tr>\n",
       "    <tr>\n",
       "      <th>17129</th>\n",
       "      <td>pos</td>\n",
       "      <td>come from atlanta ( aka korean food capit of t...</td>\n",
       "      <td>come from atlanta ( aka korean food capit of s...</td>\n",
       "    </tr>\n",
       "    <tr>\n",
       "      <th>198285</th>\n",
       "      <td>pos</td>\n",
       "      <td>veri friendli and person folk they have a nice...</td>\n",
       "      <td>veri friendli and person folk they nice select...</td>\n",
       "    </tr>\n",
       "    <tr>\n",
       "      <th>11764</th>\n",
       "      <td>neg</td>\n",
       "      <td>after see pictur of the red velvet waffl i wan...</td>\n",
       "      <td>after see pictur of red velvet waffl i want to...</td>\n",
       "    </tr>\n",
       "  </tbody>\n",
       "</table>\n",
       "</div>"
      ],
      "text/plain": [
       "       stars                                          textclean  \\\n",
       "7954     pos  we had breakfast and lunch thank to an overs b...   \n",
       "111141   pos  do you want a sweet date spot do you like your...   \n",
       "17129    pos  come from atlanta ( aka korean food capit of t...   \n",
       "198285   pos  veri friendli and person folk they have a nice...   \n",
       "11764    neg  after see pictur of the red velvet waffl i wan...   \n",
       "\n",
       "                                     text_clean_noisefree  \n",
       "7954    we breakfast and lunch thank to an overs break...  \n",
       "111141  you want sweet date spot you like your flavor ...  \n",
       "17129   come from atlanta ( aka korean food capit of s...  \n",
       "198285  veri friendli and person folk they nice select...  \n",
       "11764   after see pictur of red velvet waffl i want to...  "
      ]
     },
     "execution_count": 45,
     "metadata": {},
     "output_type": "execute_result"
    }
   ],
   "source": [
    "reviews.head()"
   ]
  },
  {
   "cell_type": "code",
   "execution_count": 46,
   "metadata": {
    "collapsed": true
   },
   "outputs": [],
   "source": [
    "reviews=reviews[[\"stars\",\"text_clean_noisefree\"]]"
   ]
  },
  {
   "cell_type": "code",
   "execution_count": 47,
   "metadata": {},
   "outputs": [
    {
     "data": {
      "text/html": [
       "<div>\n",
       "<style>\n",
       "    .dataframe thead tr:only-child th {\n",
       "        text-align: right;\n",
       "    }\n",
       "\n",
       "    .dataframe thead th {\n",
       "        text-align: left;\n",
       "    }\n",
       "\n",
       "    .dataframe tbody tr th {\n",
       "        vertical-align: top;\n",
       "    }\n",
       "</style>\n",
       "<table border=\"1\" class=\"dataframe\">\n",
       "  <thead>\n",
       "    <tr style=\"text-align: right;\">\n",
       "      <th></th>\n",
       "      <th>stars</th>\n",
       "      <th>text_clean_noisefree</th>\n",
       "    </tr>\n",
       "  </thead>\n",
       "  <tbody>\n",
       "    <tr>\n",
       "      <th>7954</th>\n",
       "      <td>pos</td>\n",
       "      <td>we breakfast and lunch thank to an overs break...</td>\n",
       "    </tr>\n",
       "    <tr>\n",
       "      <th>111141</th>\n",
       "      <td>pos</td>\n",
       "      <td>you want sweet date spot you like your flavor ...</td>\n",
       "    </tr>\n",
       "    <tr>\n",
       "      <th>17129</th>\n",
       "      <td>pos</td>\n",
       "      <td>come from atlanta ( aka korean food capit of s...</td>\n",
       "    </tr>\n",
       "    <tr>\n",
       "      <th>198285</th>\n",
       "      <td>pos</td>\n",
       "      <td>veri friendli and person folk they nice select...</td>\n",
       "    </tr>\n",
       "    <tr>\n",
       "      <th>11764</th>\n",
       "      <td>neg</td>\n",
       "      <td>after see pictur of red velvet waffl i want to...</td>\n",
       "    </tr>\n",
       "  </tbody>\n",
       "</table>\n",
       "</div>"
      ],
      "text/plain": [
       "       stars                               text_clean_noisefree\n",
       "7954     pos  we breakfast and lunch thank to an overs break...\n",
       "111141   pos  you want sweet date spot you like your flavor ...\n",
       "17129    pos  come from atlanta ( aka korean food capit of s...\n",
       "198285   pos  veri friendli and person folk they nice select...\n",
       "11764    neg  after see pictur of red velvet waffl i want to..."
      ]
     },
     "execution_count": 47,
     "metadata": {},
     "output_type": "execute_result"
    }
   ],
   "source": [
    "reviews.head()"
   ]
  },
  {
   "cell_type": "code",
   "execution_count": 58,
   "metadata": {
    "collapsed": true
   },
   "outputs": [],
   "source": [
    "X=reviews.text_clean_noisefree\n",
    "y=reviews.stars\n",
    "from sklearn.model_selection import train_test_split\n",
    "X_train, X_test, y_train, y_test = train_test_split(X, y, test_size=0.2, random_state=0)"
   ]
  },
  {
   "cell_type": "code",
   "execution_count": 60,
   "metadata": {
    "collapsed": true
   },
   "outputs": [],
   "source": [
    "from sklearn.feature_extraction.text import CountVectorizer\n",
    "from sklearn.feature_extraction.text import TfidfTransformer"
   ]
  },
  {
   "cell_type": "code",
   "execution_count": 61,
   "metadata": {
    "collapsed": true
   },
   "outputs": [],
   "source": [
    "# Instantiate the count vectorizer with english for stop words.\n",
    "count_vect = CountVectorizer(stop_words='english')\n",
    "# Fit the text and transform it into a vector. This will return a sparse matrix.\n",
    "count_vectorized = count_vect.fit_transform(X_train)\n",
    "\n",
    "from sklearn.feature_extraction.text import TfidfVectorizer\n"
   ]
  },
  {
   "cell_type": "code",
   "execution_count": 62,
   "metadata": {
    "collapsed": true
   },
   "outputs": [],
   "source": [
    "tfidf_vect=TfidfTransformer()\n",
    "tfidf_vectorized=tfidf_vect.fit_transform(count_vectorized)\n"
   ]
  },
  {
   "cell_type": "code",
   "execution_count": 63,
   "metadata": {
    "collapsed": true
   },
   "outputs": [],
   "source": [
    "cte_features_all = count_vect.transform(X_test)\n",
    "te_features_all = tfidf_vect.transform(cte_features_all)"
   ]
  },
  {
   "cell_type": "code",
   "execution_count": 64,
   "metadata": {
    "collapsed": true
   },
   "outputs": [],
   "source": [
    "#Pca doesn't apply to sparse matrices so we use a different version of PCA called Truncated SVD\n",
    "\n",
    "from sklearn.decomposition import TruncatedSVD\n",
    "svd = TruncatedSVD(n_components=200)\n",
    "tr_features_truncated = svd.fit_transform(tfidf_vectorized)\n",
    "te_features_truncated = svd.transform(te_features_all)\n",
    "svd = TruncatedSVD(n_components=200)\n",
    "ctr_features_truncated = svd.fit_transform(count_vectorized)\n",
    "cte_features_truncated = svd.transform(cte_features_all)"
   ]
  },
  {
   "cell_type": "code",
   "execution_count": 65,
   "metadata": {},
   "outputs": [
    {
     "data": {
      "text/plain": [
       "118644    veri nice littl market staff help and veri pol...\n",
       "169456    food wa not bad but wa surpris that bbq sauc w...\n",
       "43646     excel food fantast servic wish i would caught ...\n",
       "69081     good wing flavor and decent draft special but ...\n",
       "6118      i am not from buffalo nor i ever been near tha...\n",
       "Name: text_clean_noisefree, dtype: object"
      ]
     },
     "execution_count": 65,
     "metadata": {},
     "output_type": "execute_result"
    }
   ],
   "source": [
    "X_train.head()"
   ]
  },
  {
   "cell_type": "code",
   "execution_count": 66,
   "metadata": {
    "collapsed": true
   },
   "outputs": [],
   "source": [
    "#NOW WE HAVE TO RUN MODELS\n",
    "from sklearn.naive_bayes import BernoulliNB\n",
    "from sklearn.tree import DecisionTreeClassifier\n",
    "from sklearn import linear_model\n",
    "\n",
    "models = {'BernoulliNB':BernoulliNB(binarize=0.5)\n",
    "          ,'Logistic' : linear_model.LogisticRegression(C=1e5),'Decision Tree' : DecisionTreeClassifier(random_state=20160121, criterion='entropy'),\n",
    "                                                                                                        'Perceptron': linear_model.Perceptron(n_iter=1000)}\n",
    "                                                                                                        \n",
    "results_svd = pd.DataFrame()"
   ]
  },
  {
   "cell_type": "code",
   "execution_count": 67,
   "metadata": {
    "collapsed": true
   },
   "outputs": [],
   "source": [
    "foldnum = 0\n",
    "tfprediction = {}\n",
    "cprediction = {}"
   ]
  },
  {
   "cell_type": "code",
   "execution_count": 68,
   "metadata": {},
   "outputs": [
    {
     "name": "stderr",
     "output_type": "stream",
     "text": [
      "C:\\Users\\prach\\Anaconda3\\lib\\site-packages\\sklearn\\linear_model\\stochastic_gradient.py:117: DeprecationWarning: n_iter parameter is deprecated in 0.19 and will be removed in 0.21. Use max_iter and tol instead.\n",
      "  DeprecationWarning)\n"
     ]
    },
    {
     "name": "stdout",
     "output_type": "stream",
     "text": [
      "           Model  TF-IDF Accuracy\n",
      "0    BernoulliNB           0.6473\n",
      "1       Logistic           0.8735\n",
      "2  Decision Tree           0.7359\n",
      "3     Perceptron           0.6957\n"
     ]
    }
   ],
   "source": [
    "from sklearn import metrics\n",
    "\n",
    "for name,model in models.items():\n",
    "        model.fit(tr_features_truncated, y_train)\n",
    "        tfprediction[name] = model.predict(te_features_truncated)\n",
    "        tfaccuracy = metrics.accuracy_score(tfprediction[name],y_test)\n",
    "        results_svd.loc[foldnum,'Model']=name\n",
    "        results_svd.loc[foldnum,'TF-IDF Accuracy']=tfaccuracy\n",
    "        foldnum=foldnum+1\n",
    "print (results_svd)"
   ]
  },
  {
   "cell_type": "code",
   "execution_count": 69,
   "metadata": {},
   "outputs": [
    {
     "name": "stdout",
     "output_type": "stream",
     "text": [
      "Classification report for  BernoulliNB\n",
      "             precision    recall  f1-score   support\n",
      "\n",
      "        neg       0.00      0.00      0.00      3527\n",
      "        pos       0.65      1.00      0.79      6473\n",
      "\n",
      "avg / total       0.42      0.65      0.51     10000\n",
      "\n",
      "\n",
      "\n",
      "Classification report for  Logistic\n",
      "             precision    recall  f1-score   support\n",
      "\n",
      "        neg       0.84      0.80      0.82      3527\n",
      "        pos       0.89      0.92      0.90      6473\n",
      "\n",
      "avg / total       0.87      0.87      0.87     10000\n",
      "\n",
      "\n",
      "\n",
      "Classification report for  "
     ]
    },
    {
     "name": "stderr",
     "output_type": "stream",
     "text": [
      "C:\\Users\\prach\\Anaconda3\\lib\\site-packages\\sklearn\\metrics\\classification.py:1135: UndefinedMetricWarning: Precision and F-score are ill-defined and being set to 0.0 in labels with no predicted samples.\n",
      "  'precision', 'predicted', average, warn_for)\n"
     ]
    },
    {
     "name": "stdout",
     "output_type": "stream",
     "text": [
      "Decision Tree\n",
      "             precision    recall  f1-score   support\n",
      "\n",
      "        neg       0.62      0.64      0.63      3527\n",
      "        pos       0.80      0.79      0.79      6473\n",
      "\n",
      "avg / total       0.74      0.74      0.74     10000\n",
      "\n",
      "\n",
      "\n",
      "Classification report for  Perceptron\n",
      "             precision    recall  f1-score   support\n",
      "\n",
      "        neg       0.54      0.97      0.69      3527\n",
      "        pos       0.97      0.55      0.70      6473\n",
      "\n",
      "avg / total       0.82      0.70      0.70     10000\n",
      "\n",
      "\n",
      "\n"
     ]
    },
    {
     "data": {
      "text/plain": [
       "<matplotlib.axes._subplots.AxesSubplot at 0x1d3a2ba49e8>"
      ]
     },
     "execution_count": 69,
     "metadata": {},
     "output_type": "execute_result"
    }
   ],
   "source": [
    "for name,model in models.items():\n",
    "    print (\"Classification report for \",name)\n",
    "    print(metrics.classification_report(y_test, tfprediction[name]))\n",
    "    print(\"\\n\")\n",
    "    \n",
    "results_svd.plot(kind='bar',color=['r','g','b','y'],title='Model Performance',figsize=(10,6),x='Model',legend=False)"
   ]
  },
  {
   "cell_type": "code",
   "execution_count": 70,
   "metadata": {
    "collapsed": true
   },
   "outputs": [],
   "source": [
    "#Now using the bigram approach\n",
    "count_vect=CountVectorizer(ngram_range=(1,2),stop_words='english')\n",
    "count_vectorized=count_vect.fit_transform(X_train)\n",
    "tfidf_vect=TfidfTransformer()\n",
    "tfidf_vectorized=tfidf_vect.fit_transform(count_vectorized)"
   ]
  },
  {
   "cell_type": "code",
   "execution_count": 71,
   "metadata": {
    "collapsed": true
   },
   "outputs": [],
   "source": [
    "cte_features_all=count_vect.transform(X_test)\n",
    "te_features_all = tfidf_vect.transform(cte_features_all)"
   ]
  },
  {
   "cell_type": "code",
   "execution_count": 72,
   "metadata": {
    "collapsed": true
   },
   "outputs": [],
   "source": [
    "results_all_bi = pd.DataFrame()\n",
    "tfprediction = {}\n",
    "cprediction = {}\n",
    "foldnum = 0"
   ]
  },
  {
   "cell_type": "code",
   "execution_count": 73,
   "metadata": {
    "collapsed": true
   },
   "outputs": [],
   "source": [
    "from sklearn.naive_bayes import BernoulliNB\n",
    "from sklearn import linear_model"
   ]
  },
  {
   "cell_type": "code",
   "execution_count": 74,
   "metadata": {
    "collapsed": true
   },
   "outputs": [],
   "source": [
    "models = {'BernoulliNB':BernoulliNB(binarize=0.5)\n",
    "          ,'Logistic' : linear_model.LogisticRegression(C=1e5),'Perceptron': linear_model.Perceptron(n_iter=1000)}"
   ]
  },
  {
   "cell_type": "code",
   "execution_count": 75,
   "metadata": {},
   "outputs": [
    {
     "name": "stderr",
     "output_type": "stream",
     "text": [
      "C:\\Users\\prach\\Anaconda3\\lib\\site-packages\\sklearn\\linear_model\\stochastic_gradient.py:117: DeprecationWarning: n_iter parameter is deprecated in 0.19 and will be removed in 0.21. Use max_iter and tol instead.\n",
      "  DeprecationWarning)\n"
     ]
    },
    {
     "name": "stdout",
     "output_type": "stream",
     "text": [
      "   TF-IDF Accuracy        Model\n",
      "0           0.6473  BernoulliNB\n",
      "1           0.8940     Logistic\n",
      "2           0.8864   Perceptron\n"
     ]
    }
   ],
   "source": [
    "from sklearn import metrics\n",
    "for name,model in models.items():\n",
    "        model.fit(tfidf_vectorized, y_train)\n",
    "        tfprediction[name] = model.predict(te_features_all)\n",
    "        tfaccuracy = metrics.accuracy_score(tfprediction[name],y_test)\n",
    "        results_all_bi.loc[foldnum,'TF-IDF Accuracy']=tfaccuracy\n",
    "        results_all_bi.loc[foldnum,'Model']=name\n",
    "        foldnum = foldnum+1\n",
    "print (results_all_bi)"
   ]
  },
  {
   "cell_type": "code",
   "execution_count": 76,
   "metadata": {},
   "outputs": [
    {
     "name": "stdout",
     "output_type": "stream",
     "text": [
      "Classification report for  BernoulliNB\n",
      "             precision    recall  f1-score   support\n",
      "\n",
      "        neg       0.00      0.00      0.00      3527\n",
      "        pos       0.65      1.00      0.79      6473\n",
      "\n",
      "avg / total       0.42      0.65      0.51     10000\n",
      "\n",
      "\n",
      "\n",
      "Classification report for  Logistic\n",
      "             precision    recall  f1-score   support\n",
      "\n",
      "        neg       0.87      0.83      0.85      3527\n",
      "        pos       0.91      0.93      0.92      6473\n",
      "\n",
      "avg / total       0.89      0.89      0.89     10000\n",
      "\n",
      "\n",
      "\n",
      "Classification report for  Perceptron\n",
      "             precision    recall  f1-score   support\n",
      "\n",
      "        neg       0.85      0.82      0.84      3527\n",
      "        pos       0.90      0.92      0.91      6473\n",
      "\n",
      "avg / total       0.89      0.89      0.89     10000\n",
      "\n",
      "\n",
      "\n"
     ]
    },
    {
     "name": "stderr",
     "output_type": "stream",
     "text": [
      "C:\\Users\\prach\\Anaconda3\\lib\\site-packages\\sklearn\\metrics\\classification.py:1135: UndefinedMetricWarning: Precision and F-score are ill-defined and being set to 0.0 in labels with no predicted samples.\n",
      "  'precision', 'predicted', average, warn_for)\n"
     ]
    }
   ],
   "source": [
    "for name,model in models.items():\n",
    "    print (\"Classification report for \",name)\n",
    "    print(metrics.classification_report(y_test, tfprediction[name]))\n",
    "    print(\"\\n\")"
   ]
  },
  {
   "cell_type": "code",
   "execution_count": 77,
   "metadata": {},
   "outputs": [
    {
     "data": {
      "text/plain": [
       "<matplotlib.axes._subplots.AxesSubplot at 0x1d3bd753b70>"
      ]
     },
     "execution_count": 77,
     "metadata": {},
     "output_type": "execute_result"
    }
   ],
   "source": [
    "results_all_bi.plot(kind='bar',color=['r','g','b'],title='Model Performance',figsize=(10,6),x='Model',legend=False)"
   ]
  },
  {
   "cell_type": "code",
   "execution_count": 78,
   "metadata": {},
   "outputs": [
    {
     "data": {
      "image/png": "[encoded data removed]",
      "text/plain": [
       "<matplotlib.figure.Figure at 0x1d3a2c2dac8>"
      ]
     },
     "metadata": {},
     "output_type": "display_data"
    },
    {
     "data": {
      "image/png": "[encoded data removed]",
      "text/plain": [
       "<matplotlib.figure.Figure at 0x1d3a18f2d30>"
      ]
     },
     "metadata": {},
     "output_type": "display_data"
    }
   ],
   "source": [
    "plt.show()"
   ]
  },
  {
   "cell_type": "code",
   "execution_count": 79,
   "metadata": {
    "collapsed": true
   },
   "outputs": [],
   "source": [
    "# Considering TRIGRAMS\n",
    "\n",
    "count_vect=CountVectorizer(ngram_range=(1,3),stop_words='english')\n",
    "count_vectorized=count_vect.fit_transform(X_train)\n",
    "tfidf_vect=TfidfTransformer()\n",
    "tfidf_vectorized=tfidf_vect.fit_transform(count_vectorized)\n",
    "cte_features_all=count_vect.transform(X_test)\n",
    "te_features_all=tfidf_vect.transform(cte_features_all)"
   ]
  },
  {
   "cell_type": "code",
   "execution_count": 80,
   "metadata": {
    "collapsed": true
   },
   "outputs": [],
   "source": [
    "results_all_tri = pd.DataFrame()\n",
    "tfprediction = {}\n",
    "cprediction = {}\n",
    "foldnum = 0"
   ]
  },
  {
   "cell_type": "code",
   "execution_count": 82,
   "metadata": {
    "collapsed": true
   },
   "outputs": [],
   "source": [
    "from sklearn.naive_bayes import BernoulliNB\n",
    "from sklearn import linear_model\n",
    "\n",
    "models = {'BernoulliNB':BernoulliNB(binarize=0.5)\n",
    "          ,'Logistic' : linear_model.LogisticRegression(C=1e5),\n",
    "                                                                                                        'Perceptron': linear_model.Perceptron(n_iter=1000)}"
   ]
  },
  {
   "cell_type": "code",
   "execution_count": 83,
   "metadata": {},
   "outputs": [
    {
     "name": "stderr",
     "output_type": "stream",
     "text": [
      "C:\\Users\\prach\\Anaconda3\\lib\\site-packages\\sklearn\\linear_model\\stochastic_gradient.py:117: DeprecationWarning: n_iter parameter is deprecated in 0.19 and will be removed in 0.21. Use max_iter and tol instead.\n",
      "  DeprecationWarning)\n"
     ]
    },
    {
     "name": "stdout",
     "output_type": "stream",
     "text": [
      "   TF-IDF Accuracy        Model\n",
      "0           0.6473  BernoulliNB\n",
      "1           0.8955     Logistic\n",
      "2           0.8868   Perceptron\n"
     ]
    }
   ],
   "source": [
    "from sklearn import metrics\n",
    "for name,model in models.items():\n",
    "        model.fit(tfidf_vectorized, y_train)\n",
    "        tfprediction[name] = model.predict(te_features_all)\n",
    "        tfaccuracy = metrics.accuracy_score(tfprediction[name],y_test)\n",
    "        results_all_tri.loc[foldnum,'TF-IDF Accuracy']=tfaccuracy\n",
    "        results_all_tri.loc[foldnum,'Model']=name\n",
    "        foldnum = foldnum+1\n",
    "print (results_all_tri)"
   ]
  },
  {
   "cell_type": "code",
   "execution_count": 84,
   "metadata": {},
   "outputs": [
    {
     "name": "stdout",
     "output_type": "stream",
     "text": [
      "Classification report for  BernoulliNB\n",
      "             precision    recall  f1-score   support\n",
      "\n",
      "        neg       0.00      0.00      0.00      3527\n",
      "        pos       0.65      1.00      0.79      6473\n",
      "\n",
      "avg / total       0.42      0.65      0.51     10000\n",
      "\n",
      "\n",
      "\n",
      "Classification report for  Logistic\n",
      "             precision    recall  f1-score   support\n",
      "\n",
      "        neg       0.87      0.83      0.85      3527\n",
      "        pos       0.91      0.93      0.92      6473\n",
      "\n",
      "avg / total       0.89      0.90      0.89     10000\n",
      "\n",
      "\n",
      "\n",
      "Classification report for  Perceptron\n",
      "             precision    recall  f1-score   support\n",
      "\n",
      "        neg       0.86      0.81      0.84      3527\n",
      "        pos       0.90      0.93      0.91      6473\n",
      "\n",
      "avg / total       0.89      0.89      0.89     10000\n",
      "\n",
      "\n",
      "\n"
     ]
    },
    {
     "name": "stderr",
     "output_type": "stream",
     "text": [
      "C:\\Users\\prach\\Anaconda3\\lib\\site-packages\\sklearn\\metrics\\classification.py:1135: UndefinedMetricWarning: Precision and F-score are ill-defined and being set to 0.0 in labels with no predicted samples.\n",
      "  'precision', 'predicted', average, warn_for)\n"
     ]
    }
   ],
   "source": [
    "for name,model in models.items():\n",
    "    print (\"Classification report for \",name)\n",
    "    print(metrics.classification_report(y_test, tfprediction[name]))\n",
    "    print(\"\\n\")"
   ]
  },
  {
   "cell_type": "code",
   "execution_count": 89,
   "metadata": {},
   "outputs": [
    {
     "data": {
      "text/plain": [
       "<matplotlib.axes._subplots.AxesSubplot at 0x1d3d69df320>"
      ]
     },
     "execution_count": 89,
     "metadata": {},
     "output_type": "execute_result"
    }
   ],
   "source": [
    "results_all_tri.plot(kind='bar',color=['r','g','b'],title='Model Performance',figsize=(10,6),x='Model',legend=False)"
   ]
  },
  {
   "cell_type": "code",
   "execution_count": 90,
   "metadata": {},
   "outputs": [
    {
     "data": {
      "image/png": "[encoded data removed]",
      "text/plain": [
       "<matplotlib.figure.Figure at 0x1d3d69616d8>"
      ]
     },
     "metadata": {},
     "output_type": "display_data"
    }
   ],
   "source": [
    "plt.show()"
   ]
  },
  {
   "cell_type": "code",
   "execution_count": 92,
   "metadata": {
    "collapsed": true
   },
   "outputs": [],
   "source": [
    "def plot_confusion_matrix(cm, title='Confusion matrix', cmap=plt.cm.Blues):\n",
    "    plt.imshow(cm, interpolation='nearest', cmap=cmap)\n",
    "    plt.title(title)\n",
    "    plt.colorbar()\n",
    "    tick_marks = np.arange(len(set(labels)))\n",
    "    plt.xticks(tick_marks, ['neg','pos'], rotation=45)\n",
    "    plt.yticks(tick_marks, ['neg','pos'])\n",
    "    plt.tight_layout()\n",
    "    plt.ylabel('True label')\n",
    "    plt.xlabel('Predicted label')"
   ]
  },
  {
   "cell_type": "code",
   "execution_count": 100,
   "metadata": {},
   "outputs": [
    {
     "ename": "KeyError",
     "evalue": "'Logistic'",
     "output_type": "error",
     "traceback": [
      "\u001b[1;31m---------------------------------------------------------------------------\u001b[0m",
      "\u001b[1;31mKeyError\u001b[0m                                  Traceback (most recent call last)",
      "\u001b[1;32m<ipython-input-100-e0cf0ee55a69>\u001b[0m in \u001b[0;36m<module>\u001b[1;34m()\u001b[0m\n\u001b[0;32m      3\u001b[0m \u001b[1;32mfrom\u001b[0m \u001b[0msklearn\u001b[0m \u001b[1;32mimport\u001b[0m \u001b[0mmetrics\u001b[0m\u001b[1;33m\u001b[0m\u001b[0m\n\u001b[0;32m      4\u001b[0m \u001b[1;32mfrom\u001b[0m \u001b[0msklearn\u001b[0m\u001b[1;33m.\u001b[0m\u001b[0mmetrics\u001b[0m \u001b[1;32mimport\u001b[0m \u001b[0mrecall_score\u001b[0m\u001b[1;33m\u001b[0m\u001b[0m\n\u001b[1;32m----> 5\u001b[1;33m \u001b[0mcm\u001b[0m \u001b[1;33m=\u001b[0m \u001b[0mconfusion_matrix\u001b[0m\u001b[1;33m(\u001b[0m\u001b[0my_test\u001b[0m\u001b[1;33m,\u001b[0m\u001b[0mtfprediction\u001b[0m\u001b[1;33m[\u001b[0m\u001b[1;34m'Logistic'\u001b[0m\u001b[1;33m]\u001b[0m\u001b[1;33m)\u001b[0m\u001b[1;33m\u001b[0m\u001b[0m\n\u001b[0m\u001b[0;32m      6\u001b[0m \u001b[0mnp\u001b[0m\u001b[1;33m.\u001b[0m\u001b[0mset_printoptions\u001b[0m\u001b[1;33m(\u001b[0m\u001b[0mprecision\u001b[0m\u001b[1;33m=\u001b[0m\u001b[1;36m2\u001b[0m\u001b[1;33m)\u001b[0m\u001b[1;33m\u001b[0m\u001b[0m\n\u001b[0;32m      7\u001b[0m \u001b[0mplt\u001b[0m\u001b[1;33m.\u001b[0m\u001b[0mfigure\u001b[0m\u001b[1;33m(\u001b[0m\u001b[1;33m)\u001b[0m\u001b[1;33m\u001b[0m\u001b[0m\n",
      "\u001b[1;31mKeyError\u001b[0m: 'Logistic'"
     ]
    }
   ],
   "source": [
    "# Compute confusion matrix\n",
    "from sklearn.metrics import confusion_matrix\n",
    "from sklearn import metrics\n",
    "from sklearn.metrics import recall_score\n",
    "cm = confusion_matrix(y_test,tfprediction['Logistic'])\n",
    "np.set_printoptions(precision=2)\n",
    "plt.figure()\n",
    "plot_confusion_matrix(cm)  "
   ]
  }
 ],
 "metadata": {
  "kernelspec": {
   "display_name": "Python 3",
   "language": "python",
   "name": "python3"
  },
  "language_info": {
   "codemirror_mode": {
    "name": "ipython",
    "version": 3
   },
   "file_extension": ".py",
   "mimetype": "text/x-python",
   "name": "python",
   "nbconvert_exporter": "python",
   "pygments_lexer": "ipython3",
   "version": "3.6.3"
  }
 },
 "nbformat": 4,
 "nbformat_minor": 2
}
